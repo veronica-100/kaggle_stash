{
 "cells": [
  {
   "cell_type": "markdown",
   "id": "33c20e85",
   "metadata": {
    "id": "jkxRSYjzA1oX",
    "papermill": {
     "duration": 0.017291,
     "end_time": "2025-03-31T12:53:34.125142",
     "exception": false,
     "start_time": "2025-03-31T12:53:34.107851",
     "status": "completed"
    },
    "tags": []
   },
   "source": [
    "##### Copyright 2025 Google LLC."
   ]
  },
  {
   "cell_type": "code",
   "execution_count": 1,
   "id": "7707aa67",
   "metadata": {
    "cellView": "form",
    "execution": {
     "iopub.execute_input": "2025-03-31T12:53:34.156916Z",
     "iopub.status.busy": "2025-03-31T12:53:34.156393Z",
     "iopub.status.idle": "2025-03-31T12:53:34.163586Z",
     "shell.execute_reply": "2025-03-31T12:53:34.162159Z"
    },
    "id": "5u5OZ2ShA3BA",
    "jupyter": {
     "source_hidden": true
    },
    "papermill": {
     "duration": 0.025442,
     "end_time": "2025-03-31T12:53:34.166391",
     "exception": false,
     "start_time": "2025-03-31T12:53:34.140949",
     "status": "completed"
    },
    "tags": []
   },
   "outputs": [],
   "source": [
    "# @title Licensed under the Apache License, Version 2.0 (the \"License\");\n",
    "# you may not use this file except in compliance with the License.\n",
    "# You may obtain a copy of the License at\n",
    "#\n",
    "# https://www.apache.org/licenses/LICENSE-2.0\n",
    "#\n",
    "# Unless required by applicable law or agreed to in writing, software\n",
    "# distributed under the License is distributed on an \"AS IS\" BASIS,\n",
    "# WITHOUT WARRANTIES OR CONDITIONS OF ANY KIND, either express or implied.\n",
    "# See the License for the specific language governing permissions and\n",
    "# limitations under the License."
   ]
  },
  {
   "cell_type": "markdown",
   "id": "2dc7ad40",
   "metadata": {
    "id": "csNPnkuCobmG",
    "papermill": {
     "duration": 0.011775,
     "end_time": "2025-03-31T12:53:34.190706",
     "exception": false,
     "start_time": "2025-03-31T12:53:34.178931",
     "status": "completed"
    },
    "tags": []
   },
   "source": [
    "# Day 1 - Prompting\n",
    "\n",
    "Welcome to the Kaggle 5-day Generative AI course!\n",
    "\n",
    "This notebook will show you how to get started with the Gemini API and walk you through some of the example prompts and techniques that you can also read about in the Prompting whitepaper. You don't need to read the whitepaper to use this notebook, but the papers will give you some theoretical context and background to complement this interactive notebook.\n",
    "\n",
    "\n",
    "## Before you begin\n",
    "\n",
    "In this notebook, you'll start exploring prompting using the Python SDK and AI Studio. For some inspiration, you might enjoy exploring some apps that have been built using the Gemini family of models. Here are a few that we like, and we think you will too.\n",
    "\n",
    "* [TextFX](https://textfx.withgoogle.com/) is a suite of AI-powered tools for rappers, made in collaboration with Lupe Fiasco,\n",
    "* [SQL Talk](https://sql-talk-r5gdynozbq-uc.a.run.app/) shows how you can talk directly to a database using the Gemini API,\n",
    "* [NotebookLM](https://notebooklm.google/) uses Gemini models to build your own personal AI research assistant.\n",
    "\n",
    "\n",
    "## For help\n",
    "\n",
    "**Common issues are covered in the [FAQ and troubleshooting guide](https://www.kaggle.com/code/markishere/day-0-troubleshooting-and-faqs).**\n",
    "\n",
    "## New for Gemini 2.0!\n",
    "\n",
    "This course material was first launched in November 2024. The AI and LLM space is moving incredibly fast, so we have made some updates to use the latest models and capabilities.\n",
    "\n",
    "* These codelabs have been updated to use the Gemini 2.0 family of models.\n",
    "* The Python SDK has been updated from `google-generativeai` to the new, unified [`google-genai`](https://pypi.org/project/google-genai) SDK.\n",
    "  * This new SDK works with both the developer Gemini API as well as Google Cloud Vertex AI, and switching is [as simple as changing some fields](https://pypi.org/project/google-genai/#:~:text=.Client%28%29-,API%20Selection,-By%20default%2C%20the).\n",
    "* New model capabilities have been added to the relevant codelabs, such as \"thinking mode\" in this lab.\n",
    "* Day 1 includes a new [Evaluation codelab](https://www.kaggle.com/code/markishere/day-1-evaluation-and-structured-output)."
   ]
  },
  {
   "cell_type": "markdown",
   "id": "6fae16a6",
   "metadata": {
    "papermill": {
     "duration": 0.011869,
     "end_time": "2025-03-31T12:53:34.214509",
     "exception": false,
     "start_time": "2025-03-31T12:53:34.202640",
     "status": "completed"
    },
    "tags": []
   },
   "source": [
    "To run this notebook, as well as the others in this course, you will need to make a copy, or fork, the notebook. Look for the `Copy and Edit` button in the top-right, and **click it** to make an editable, private copy of the notebook. It should look like this one:\n",
    "\n",
    "![Copy and Edit button](https://storage.googleapis.com/kaggle-media/Images/5gdai_sc_1.png)\n",
    "\n",
    "Your copy will now have a ▶️ **Run** button next to each code cell that you can press to execute that cell. These notebooks are expected to be run in order from top-to-bottom, but you are encouraged to add new cells, run your own code and explore. If you get stuck, you can try the `Factory reset` option in the `Run` menu, or head back to the original notebook and make a fresh copy.\n",
    "\n",
    "![Run cell button](https://storage.googleapis.com/kaggle-media/Images/5gdai_sc_2.png)\n",
    "\n",
    "### Problems?\n",
    "\n",
    "If you have any problems, head over to the [Kaggle Discord](https://discord.com/invite/kaggle), find the [`#5dgai-q-and-a` channel](https://discord.com/channels/1101210829807956100/1303438695143178251) and ask for help."
   ]
  },
  {
   "cell_type": "markdown",
   "id": "7f85a4e0",
   "metadata": {
    "id": "ExkOXcPxtTb5",
    "papermill": {
     "duration": 0.018939,
     "end_time": "2025-03-31T12:53:34.248606",
     "exception": false,
     "start_time": "2025-03-31T12:53:34.229667",
     "status": "completed"
    },
    "tags": []
   },
   "source": [
    "## Get started with the Gemini API\n",
    "\n",
    "All of the exercises in this notebook will use the [Gemini API](https://ai.google.dev/gemini-api/) by way of the [Python SDK](https://pypi.org/project/google-genai/). Each of these prompts can be accessed directly in [Google AI Studio](https://aistudio.google.com/) too, so if you would rather use a web interface and skip the code for this activity, look for the <img src=\"https://ai.google.dev/site-assets/images/marketing/home/icon-ais.png\" style=\"height: 24px\" height=24/> AI Studio link on each prompt."
   ]
  },
  {
   "cell_type": "markdown",
   "id": "9a6686c3",
   "metadata": {
    "id": "UAjUV3BsvFXQ",
    "papermill": {
     "duration": 0.025038,
     "end_time": "2025-03-31T12:53:34.292959",
     "exception": false,
     "start_time": "2025-03-31T12:53:34.267921",
     "status": "completed"
    },
    "tags": []
   },
   "source": [
    "### Install the SDK"
   ]
  },
  {
   "cell_type": "code",
   "execution_count": 2,
   "id": "25627765",
   "metadata": {
    "execution": {
     "iopub.execute_input": "2025-03-31T12:53:34.339163Z",
     "iopub.status.busy": "2025-03-31T12:53:34.337595Z",
     "iopub.status.idle": "2025-03-31T12:53:56.232174Z",
     "shell.execute_reply": "2025-03-31T12:53:56.230654Z"
    },
    "id": "NzwzJFU9LqkJ",
    "papermill": {
     "duration": 21.926025,
     "end_time": "2025-03-31T12:53:56.234900",
     "exception": false,
     "start_time": "2025-03-31T12:53:34.308875",
     "status": "completed"
    },
    "tags": []
   },
   "outputs": [],
   "source": [
    "!pip uninstall -qqy jupyterlab  # Remove unused packages from Kaggle's base image that conflict\n",
    "!pip install -U -q \"google-genai==1.7.0\""
   ]
  },
  {
   "cell_type": "markdown",
   "id": "3504793c",
   "metadata": {
    "papermill": {
     "duration": 0.011273,
     "end_time": "2025-03-31T12:53:56.258390",
     "exception": false,
     "start_time": "2025-03-31T12:53:56.247117",
     "status": "completed"
    },
    "tags": []
   },
   "source": [
    "Import the SDK and some helpers for rendering the output."
   ]
  },
  {
   "cell_type": "code",
   "execution_count": 3,
   "id": "6e825083",
   "metadata": {
    "execution": {
     "iopub.execute_input": "2025-03-31T12:53:56.285483Z",
     "iopub.status.busy": "2025-03-31T12:53:56.284297Z",
     "iopub.status.idle": "2025-03-31T12:53:57.711091Z",
     "shell.execute_reply": "2025-03-31T12:53:57.709984Z"
    },
    "id": "5DwxYIRavMST",
    "papermill": {
     "duration": 1.44259,
     "end_time": "2025-03-31T12:53:57.713717",
     "exception": false,
     "start_time": "2025-03-31T12:53:56.271127",
     "status": "completed"
    },
    "tags": []
   },
   "outputs": [],
   "source": [
    "from google import genai\n",
    "from google.genai import types\n",
    "\n",
    "from IPython.display import HTML, Markdown, display"
   ]
  },
  {
   "cell_type": "markdown",
   "id": "b0d2471c",
   "metadata": {
    "papermill": {
     "duration": 0.011141,
     "end_time": "2025-03-31T12:53:57.736672",
     "exception": false,
     "start_time": "2025-03-31T12:53:57.725531",
     "status": "completed"
    },
    "tags": []
   },
   "source": [
    "Set up a retry helper. This allows you to \"Run all\" without worrying about per-minute quota."
   ]
  },
  {
   "cell_type": "code",
   "execution_count": 4,
   "id": "a33f983e",
   "metadata": {
    "execution": {
     "iopub.execute_input": "2025-03-31T12:53:57.763665Z",
     "iopub.status.busy": "2025-03-31T12:53:57.763093Z",
     "iopub.status.idle": "2025-03-31T12:53:57.965362Z",
     "shell.execute_reply": "2025-03-31T12:53:57.964153Z"
    },
    "papermill": {
     "duration": 0.2192,
     "end_time": "2025-03-31T12:53:57.967912",
     "exception": false,
     "start_time": "2025-03-31T12:53:57.748712",
     "status": "completed"
    },
    "tags": []
   },
   "outputs": [],
   "source": [
    "from google.api_core import retry\n",
    "\n",
    "\n",
    "is_retriable = lambda e: (isinstance(e, genai.errors.APIError) and e.code in {429, 503})\n",
    "\n",
    "genai.models.Models.generate_content = retry.Retry(\n",
    "    predicate=is_retriable)(genai.models.Models.generate_content)"
   ]
  },
  {
   "cell_type": "markdown",
   "id": "7599ff5f",
   "metadata": {
    "id": "DNEt2BCOvOJ1",
    "papermill": {
     "duration": 0.011643,
     "end_time": "2025-03-31T12:53:57.991376",
     "exception": false,
     "start_time": "2025-03-31T12:53:57.979733",
     "status": "completed"
    },
    "tags": []
   },
   "source": [
    "### Set up your API key\n",
    "\n",
    "To run the following cell, your API key must be stored it in a [Kaggle secret](https://www.kaggle.com/discussions/product-feedback/114053) named `GOOGLE_API_KEY`.\n",
    "\n",
    "If you don't already have an API key, you can grab one from [AI Studio](https://aistudio.google.com/app/apikey). You can find [detailed instructions in the docs](https://ai.google.dev/gemini-api/docs/api-key).\n",
    "\n",
    "To make the key available through Kaggle secrets, choose `Secrets` from the `Add-ons` menu and follow the instructions to add your key or enable it for this notebook."
   ]
  },
  {
   "cell_type": "code",
   "execution_count": 5,
   "id": "909401cf",
   "metadata": {
    "execution": {
     "iopub.execute_input": "2025-03-31T12:53:58.017562Z",
     "iopub.status.busy": "2025-03-31T12:53:58.016368Z",
     "iopub.status.idle": "2025-03-31T12:53:58.109599Z",
     "shell.execute_reply": "2025-03-31T12:53:58.108579Z"
    },
    "id": "SHl0bkPCvayd",
    "papermill": {
     "duration": 0.108312,
     "end_time": "2025-03-31T12:53:58.111929",
     "exception": false,
     "start_time": "2025-03-31T12:53:58.003617",
     "status": "completed"
    },
    "tags": []
   },
   "outputs": [],
   "source": [
    "from kaggle_secrets import UserSecretsClient\n",
    "\n",
    "GOOGLE_API_KEY = UserSecretsClient().get_secret(\"GOOGLE_API_KEY\")"
   ]
  },
  {
   "cell_type": "markdown",
   "id": "e90dc03c",
   "metadata": {
    "id": "H_YXCYIKvyZJ",
    "papermill": {
     "duration": 0.011347,
     "end_time": "2025-03-31T12:53:58.134717",
     "exception": false,
     "start_time": "2025-03-31T12:53:58.123370",
     "status": "completed"
    },
    "tags": []
   },
   "source": [
    "### Run your first prompt\n",
    "\n",
    "In this step, you will test that your API key is set up correctly by making a request.\n",
    "\n",
    "The Python SDK uses a [`Client` object](https://googleapis.github.io/python-genai/genai.html#genai.client.Client) to make requests to the API. The client lets you control which back-end to use (between the Gemini API and Vertex AI) and handles authentication (the API key).\n",
    "\n",
    "The `gemini-2.0-flash` model has been selected here.\n",
    "\n",
    "**Note**: If you see a `TransportError` on this step, you may need to **🔁 Factory reset** the notebook one time."
   ]
  },
  {
   "cell_type": "code",
   "execution_count": 6,
   "id": "29d1fb93",
   "metadata": {
    "execution": {
     "iopub.execute_input": "2025-03-31T12:53:58.162043Z",
     "iopub.status.busy": "2025-03-31T12:53:58.161149Z",
     "iopub.status.idle": "2025-03-31T12:54:01.208590Z",
     "shell.execute_reply": "2025-03-31T12:54:01.207312Z"
    },
    "id": "BV1o0PmcvyJF",
    "papermill": {
     "duration": 3.066065,
     "end_time": "2025-03-31T12:54:01.212428",
     "exception": false,
     "start_time": "2025-03-31T12:53:58.146363",
     "status": "completed"
    },
    "tags": []
   },
   "outputs": [
    {
     "name": "stdout",
     "output_type": "stream",
     "text": [
      "Okay, imagine you have a really, really smart puppy named Sparky. Sparky can learn lots of things, but he needs to be taught first.\n",
      "\n",
      "**What is AI (Artificial Intelligence)?**\n",
      "\n",
      "AI is like making a computer program that can learn and think like Sparky! Instead of teaching Sparky tricks, we teach the computer how to solve problems, understand things, and even make decisions.\n",
      "\n",
      "**How does it work?**\n",
      "\n",
      "Think about teaching Sparky to \"sit.\" You show him what to do, and when he sits, you give him a treat! The computer learns in a similar way. We give it lots and lots of examples, and it tries to figure out the rules.\n",
      "\n",
      "*   **Data:** We give the computer lots of information, like pictures of cats and dogs, or stories about happy and sad people. This information is called \"data.\"\n",
      "*   **Learning:** The computer looks for patterns in the data. For example, it might learn that cats have pointy ears and dogs have floppy ears.\n",
      "*   **Decisions:** Once the computer has learned, it can make decisions based on what it has learned. If you show it a new picture, it can try to guess if it's a cat or a dog!\n",
      "\n",
      "**What can AI do?**\n",
      "\n",
      "AI is used for all sorts of things:\n",
      "\n",
      "*   **Playing games:** AI can play video games really well, sometimes even better than people!\n",
      "*   **Talking to you:** Think of Siri or Alexa. They use AI to understand what you're saying and answer your questions.\n",
      "*   **Helping doctors:** AI can help doctors find diseases in x-rays and suggest the best treatments.\n",
      "*   **Driving cars:** Some cars are being built to drive themselves using AI.\n",
      "\n",
      "**Is AI perfect?**\n",
      "\n",
      "No, AI isn't perfect yet! It's still learning, just like Sparky. Sometimes it makes mistakes, and it can be tricked. But as we give it more data and better instructions, it will get smarter and smarter!\n",
      "\n",
      "**So, AI is like a really smart, learning program that can help us with all sorts of things!** It's not magic, but it's pretty cool!\n",
      "\n"
     ]
    }
   ],
   "source": [
    "client = genai.Client(api_key=GOOGLE_API_KEY)\n",
    "\n",
    "response = client.models.generate_content(\n",
    "    model=\"gemini-2.0-flash\",\n",
    "    contents=\"Explain AI to me like I'm a kid.\")\n",
    "\n",
    "print(response.text)"
   ]
  },
  {
   "cell_type": "markdown",
   "id": "f302eb35",
   "metadata": {
    "id": "f60ed9d8ae41",
    "papermill": {
     "duration": 0.011949,
     "end_time": "2025-03-31T12:54:01.237759",
     "exception": false,
     "start_time": "2025-03-31T12:54:01.225810",
     "status": "completed"
    },
    "tags": []
   },
   "source": [
    "The response often comes back in markdown format, which you can render directly in this notebook."
   ]
  },
  {
   "cell_type": "code",
   "execution_count": 7,
   "id": "9a93f2c6",
   "metadata": {
    "execution": {
     "iopub.execute_input": "2025-03-31T12:54:01.266038Z",
     "iopub.status.busy": "2025-03-31T12:54:01.265539Z",
     "iopub.status.idle": "2025-03-31T12:54:01.275966Z",
     "shell.execute_reply": "2025-03-31T12:54:01.274556Z"
    },
    "id": "c933e5e460a5",
    "papermill": {
     "duration": 0.028207,
     "end_time": "2025-03-31T12:54:01.278751",
     "exception": false,
     "start_time": "2025-03-31T12:54:01.250544",
     "status": "completed"
    },
    "tags": []
   },
   "outputs": [
    {
     "data": {
      "text/markdown": [
       "Okay, imagine you have a really, really smart puppy named Sparky. Sparky can learn lots of things, but he needs to be taught first.\n",
       "\n",
       "**What is AI (Artificial Intelligence)?**\n",
       "\n",
       "AI is like making a computer program that can learn and think like Sparky! Instead of teaching Sparky tricks, we teach the computer how to solve problems, understand things, and even make decisions.\n",
       "\n",
       "**How does it work?**\n",
       "\n",
       "Think about teaching Sparky to \"sit.\" You show him what to do, and when he sits, you give him a treat! The computer learns in a similar way. We give it lots and lots of examples, and it tries to figure out the rules.\n",
       "\n",
       "*   **Data:** We give the computer lots of information, like pictures of cats and dogs, or stories about happy and sad people. This information is called \"data.\"\n",
       "*   **Learning:** The computer looks for patterns in the data. For example, it might learn that cats have pointy ears and dogs have floppy ears.\n",
       "*   **Decisions:** Once the computer has learned, it can make decisions based on what it has learned. If you show it a new picture, it can try to guess if it's a cat or a dog!\n",
       "\n",
       "**What can AI do?**\n",
       "\n",
       "AI is used for all sorts of things:\n",
       "\n",
       "*   **Playing games:** AI can play video games really well, sometimes even better than people!\n",
       "*   **Talking to you:** Think of Siri or Alexa. They use AI to understand what you're saying and answer your questions.\n",
       "*   **Helping doctors:** AI can help doctors find diseases in x-rays and suggest the best treatments.\n",
       "*   **Driving cars:** Some cars are being built to drive themselves using AI.\n",
       "\n",
       "**Is AI perfect?**\n",
       "\n",
       "No, AI isn't perfect yet! It's still learning, just like Sparky. Sometimes it makes mistakes, and it can be tricked. But as we give it more data and better instructions, it will get smarter and smarter!\n",
       "\n",
       "**So, AI is like a really smart, learning program that can help us with all sorts of things!** It's not magic, but it's pretty cool!\n"
      ],
      "text/plain": [
       "<IPython.core.display.Markdown object>"
      ]
     },
     "execution_count": 7,
     "metadata": {},
     "output_type": "execute_result"
    }
   ],
   "source": [
    "Markdown(response.text)"
   ]
  },
  {
   "cell_type": "markdown",
   "id": "eb351dd4",
   "metadata": {
    "id": "byx0pT9ZMW2Q",
    "papermill": {
     "duration": 0.012338,
     "end_time": "2025-03-31T12:54:01.304796",
     "exception": false,
     "start_time": "2025-03-31T12:54:01.292458",
     "status": "completed"
    },
    "tags": []
   },
   "source": [
    "### Start a chat\n",
    "\n",
    "The previous example uses a single-turn, text-in/text-out structure, but you can also set up a multi-turn chat structure too."
   ]
  },
  {
   "cell_type": "code",
   "execution_count": 8,
   "id": "558034e4",
   "metadata": {
    "execution": {
     "iopub.execute_input": "2025-03-31T12:54:01.332327Z",
     "iopub.status.busy": "2025-03-31T12:54:01.331777Z",
     "iopub.status.idle": "2025-03-31T12:54:01.762310Z",
     "shell.execute_reply": "2025-03-31T12:54:01.761082Z"
    },
    "id": "lV_S5ZL5MidD",
    "papermill": {
     "duration": 0.447678,
     "end_time": "2025-03-31T12:54:01.765178",
     "exception": false,
     "start_time": "2025-03-31T12:54:01.317500",
     "status": "completed"
    },
    "tags": []
   },
   "outputs": [
    {
     "name": "stdout",
     "output_type": "stream",
     "text": [
      "Nice to meet you, Zlork! It's a pleasure to meet you. Is there anything I can help you with today?\n",
      "\n"
     ]
    }
   ],
   "source": [
    "chat = client.chats.create(model='gemini-2.0-flash', history=[])\n",
    "response = chat.send_message('Hello! My name is Zlork.')\n",
    "print(response.text)"
   ]
  },
  {
   "cell_type": "code",
   "execution_count": 9,
   "id": "0befe881",
   "metadata": {
    "execution": {
     "iopub.execute_input": "2025-03-31T12:54:01.792112Z",
     "iopub.status.busy": "2025-03-31T12:54:01.791606Z",
     "iopub.status.idle": "2025-03-31T12:54:02.818331Z",
     "shell.execute_reply": "2025-03-31T12:54:02.816665Z"
    },
    "id": "7b0372c3c64a",
    "papermill": {
     "duration": 1.043429,
     "end_time": "2025-03-31T12:54:02.821308",
     "exception": false,
     "start_time": "2025-03-31T12:54:01.777879",
     "status": "completed"
    },
    "tags": []
   },
   "outputs": [
    {
     "name": "stdout",
     "output_type": "stream",
     "text": [
      "Okay, here's a cool dinosaur fact for you:\n",
      "\n",
      "**Did you know that some dinosaurs had feathers?**\n",
      "\n",
      "While many people picture dinosaurs as scaly reptiles, evidence suggests that many, if not most, theropods (the group of dinosaurs that includes T. Rex and Velociraptor) had feathers! These feathers weren't necessarily for flight, but likely served purposes like insulation, display, and camouflage. Some even think young dinosaurs had fluffier feathers for warmth, similar to baby chicks.\n",
      "\n",
      "So, next time you think of a dinosaur, imagine it might be a bit more fluffy than you previously thought!\n",
      "\n"
     ]
    }
   ],
   "source": [
    "response = chat.send_message('Can you tell me something interesting about dinosaurs?')\n",
    "print(response.text)"
   ]
  },
  {
   "cell_type": "markdown",
   "id": "604d2f5e",
   "metadata": {
    "papermill": {
     "duration": 0.01474,
     "end_time": "2025-03-31T12:54:02.849045",
     "exception": false,
     "start_time": "2025-03-31T12:54:02.834305",
     "status": "completed"
    },
    "tags": []
   },
   "source": [
    "While you have the `chat` object alive, the conversation state\n",
    "persists. Confirm that by asking if it knows the user's name."
   ]
  },
  {
   "cell_type": "code",
   "execution_count": 10,
   "id": "b75cfeb2",
   "metadata": {
    "execution": {
     "iopub.execute_input": "2025-03-31T12:54:02.876393Z",
     "iopub.status.busy": "2025-03-31T12:54:02.875937Z",
     "iopub.status.idle": "2025-03-31T12:54:03.241797Z",
     "shell.execute_reply": "2025-03-31T12:54:03.240177Z"
    },
    "id": "d3f9591392a7",
    "papermill": {
     "duration": 0.382748,
     "end_time": "2025-03-31T12:54:03.244855",
     "exception": false,
     "start_time": "2025-03-31T12:54:02.862107",
     "status": "completed"
    },
    "tags": []
   },
   "outputs": [
    {
     "name": "stdout",
     "output_type": "stream",
     "text": [
      "Yes, your name is Zlork.\n",
      "\n"
     ]
    }
   ],
   "source": [
    "response = chat.send_message('Do you remember what my name is?')\n",
    "print(response.text)"
   ]
  },
  {
   "cell_type": "markdown",
   "id": "be3a9df8",
   "metadata": {
    "id": "2KAjpr1200sW",
    "papermill": {
     "duration": 0.012193,
     "end_time": "2025-03-31T12:54:03.269851",
     "exception": false,
     "start_time": "2025-03-31T12:54:03.257658",
     "status": "completed"
    },
    "tags": []
   },
   "source": [
    "### Choose a model\n",
    "\n",
    "The Gemini API provides access to a number of models from the Gemini model family. Read about the available models and their capabilities on the [model overview page](https://ai.google.dev/gemini-api/docs/models/gemini).\n",
    "\n",
    "In this step you'll use the API to list all of the available models."
   ]
  },
  {
   "cell_type": "code",
   "execution_count": 11,
   "id": "1ee3882d",
   "metadata": {
    "execution": {
     "iopub.execute_input": "2025-03-31T12:54:03.299389Z",
     "iopub.status.busy": "2025-03-31T12:54:03.298962Z",
     "iopub.status.idle": "2025-03-31T12:54:03.350922Z",
     "shell.execute_reply": "2025-03-31T12:54:03.349342Z"
    },
    "id": "uUUZa2uq2jDm",
    "papermill": {
     "duration": 0.068957,
     "end_time": "2025-03-31T12:54:03.353862",
     "exception": false,
     "start_time": "2025-03-31T12:54:03.284905",
     "status": "completed"
    },
    "tags": []
   },
   "outputs": [
    {
     "name": "stdout",
     "output_type": "stream",
     "text": [
      "models/chat-bison-001\n",
      "models/text-bison-001\n",
      "models/embedding-gecko-001\n",
      "models/gemini-1.0-pro-vision-latest\n",
      "models/gemini-pro-vision\n",
      "models/gemini-1.5-pro-latest\n",
      "models/gemini-1.5-pro-001\n",
      "models/gemini-1.5-pro-002\n",
      "models/gemini-1.5-pro\n",
      "models/gemini-1.5-flash-latest\n",
      "models/gemini-1.5-flash-001\n",
      "models/gemini-1.5-flash-001-tuning\n",
      "models/gemini-1.5-flash\n",
      "models/gemini-1.5-flash-002\n",
      "models/gemini-1.5-flash-8b\n",
      "models/gemini-1.5-flash-8b-001\n",
      "models/gemini-1.5-flash-8b-latest\n",
      "models/gemini-1.5-flash-8b-exp-0827\n",
      "models/gemini-1.5-flash-8b-exp-0924\n",
      "models/gemini-2.5-pro-exp-03-25\n",
      "models/gemini-2.0-flash-exp\n",
      "models/gemini-2.0-flash\n",
      "models/gemini-2.0-flash-001\n",
      "models/gemini-2.0-flash-exp-image-generation\n",
      "models/gemini-2.0-flash-lite-001\n",
      "models/gemini-2.0-flash-lite\n",
      "models/gemini-2.0-flash-lite-preview-02-05\n",
      "models/gemini-2.0-flash-lite-preview\n",
      "models/gemini-2.0-pro-exp\n",
      "models/gemini-2.0-pro-exp-02-05\n",
      "models/gemini-exp-1206\n",
      "models/gemini-2.0-flash-thinking-exp-01-21\n",
      "models/gemini-2.0-flash-thinking-exp\n",
      "models/gemini-2.0-flash-thinking-exp-1219\n",
      "models/learnlm-1.5-pro-experimental\n",
      "models/gemma-3-27b-it\n",
      "models/embedding-001\n",
      "models/text-embedding-004\n",
      "models/gemini-embedding-exp-03-07\n",
      "models/gemini-embedding-exp\n",
      "models/aqa\n",
      "models/imagen-3.0-generate-002\n"
     ]
    }
   ],
   "source": [
    "for model in client.models.list():\n",
    "  print(model.name)"
   ]
  },
  {
   "cell_type": "markdown",
   "id": "e3931fa4",
   "metadata": {
    "id": "rN49kSI54R1v",
    "papermill": {
     "duration": 0.012487,
     "end_time": "2025-03-31T12:54:03.379560",
     "exception": false,
     "start_time": "2025-03-31T12:54:03.367073",
     "status": "completed"
    },
    "tags": []
   },
   "source": [
    "The [`models.list`](https://ai.google.dev/api/models#method:-models.list) response also returns additional information about the model's capabilities, like the token limits and supported parameters."
   ]
  },
  {
   "cell_type": "code",
   "execution_count": 12,
   "id": "221e0939",
   "metadata": {
    "execution": {
     "iopub.execute_input": "2025-03-31T12:54:03.406967Z",
     "iopub.status.busy": "2025-03-31T12:54:03.406563Z",
     "iopub.status.idle": "2025-03-31T12:54:03.504337Z",
     "shell.execute_reply": "2025-03-31T12:54:03.502485Z"
    },
    "id": "k7JJ1K6j4Rl8",
    "papermill": {
     "duration": 0.114944,
     "end_time": "2025-03-31T12:54:03.507455",
     "exception": false,
     "start_time": "2025-03-31T12:54:03.392511",
     "status": "completed"
    },
    "tags": []
   },
   "outputs": [
    {
     "name": "stdout",
     "output_type": "stream",
     "text": [
      "{'description': 'Gemini 2.0 Flash',\n",
      " 'display_name': 'Gemini 2.0 Flash',\n",
      " 'input_token_limit': 1048576,\n",
      " 'name': 'models/gemini-2.0-flash',\n",
      " 'output_token_limit': 8192,\n",
      " 'supported_actions': ['generateContent', 'countTokens'],\n",
      " 'tuned_model_info': {},\n",
      " 'version': '2.0'}\n"
     ]
    }
   ],
   "source": [
    "from pprint import pprint\n",
    "\n",
    "for model in client.models.list():\n",
    "  if model.name == 'models/gemini-2.0-flash':\n",
    "    pprint(model.to_json_dict())\n",
    "    break"
   ]
  },
  {
   "cell_type": "markdown",
   "id": "e01298cb",
   "metadata": {
    "id": "5rU_UBlZdooM",
    "papermill": {
     "duration": 0.01299,
     "end_time": "2025-03-31T12:54:03.534461",
     "exception": false,
     "start_time": "2025-03-31T12:54:03.521471",
     "status": "completed"
    },
    "tags": []
   },
   "source": [
    "## Explore generation parameters\n",
    "\n"
   ]
  },
  {
   "cell_type": "markdown",
   "id": "84b32b7f",
   "metadata": {
    "id": "G7NfEizeipbW",
    "papermill": {
     "duration": 0.013015,
     "end_time": "2025-03-31T12:54:03.560422",
     "exception": false,
     "start_time": "2025-03-31T12:54:03.547407",
     "status": "completed"
    },
    "tags": []
   },
   "source": [
    "### Output length\n",
    "\n",
    "When generating text with an LLM, the output length affects cost and performance. Generating more tokens increases computation, leading to higher energy consumption, latency, and cost.\n",
    "\n",
    "To stop the model from generating tokens past a limit, you can specify the `max_output_tokens` parameter when using the Gemini API. Specifying this parameter does not influence the generation of the output tokens, so the output will not become more stylistically or textually succinct, but it will stop generating tokens once the specified length is reached. Prompt engineering may be required to generate a more complete output for your given limit."
   ]
  },
  {
   "cell_type": "code",
   "execution_count": 13,
   "id": "0d36ecbd",
   "metadata": {
    "execution": {
     "iopub.execute_input": "2025-03-31T12:54:03.587942Z",
     "iopub.status.busy": "2025-03-31T12:54:03.587564Z",
     "iopub.status.idle": "2025-03-31T12:54:05.146186Z",
     "shell.execute_reply": "2025-03-31T12:54:05.144754Z"
    },
    "id": "qVf23JsIi9ma",
    "papermill": {
     "duration": 1.575898,
     "end_time": "2025-03-31T12:54:05.149046",
     "exception": false,
     "start_time": "2025-03-31T12:54:03.573148",
     "status": "completed"
    },
    "tags": []
   },
   "outputs": [
    {
     "name": "stdout",
     "output_type": "stream",
     "text": [
      "## The Humble Olive: A Cornerstone of Modern Society\n",
      "\n",
      "The olive, a small, unassuming fruit, often relegated to a garnish or a side dish, holds a significance far exceeding its diminutive size. From its ancient roots as a symbol of peace and prosperity to its modern-day applications in cuisine, health, and even industry, the olive tree, *Olea europaea*, and its fruit have woven themselves into the fabric of modern society. Its importance stems not only from its delicious and versatile culinary uses but also from its nutritional value, its environmental sustainability, and its economic impact across the globe.\n",
      "\n",
      "One of the most immediately recognizable contributions of the olive lies in the culinary realm. Olive oil, derived from the fruit, is a staple ingredient in countless dishes across the Mediterranean region and beyond. Its distinctive flavor, ranging from peppery and robust to smooth and delicate, enhances a wide array of culinary creations, from simple salads and grilled vegetables to complex sauces and stews. Beyond its flavor profile, olive\n"
     ]
    }
   ],
   "source": [
    "from google.genai import types\n",
    "\n",
    "short_config = types.GenerateContentConfig(max_output_tokens=200)\n",
    "\n",
    "response = client.models.generate_content(\n",
    "    model='gemini-2.0-flash',\n",
    "    config=short_config,\n",
    "    contents='Write a 1000 word essay on the importance of olives in modern society.')\n",
    "\n",
    "print(response.text)"
   ]
  },
  {
   "cell_type": "code",
   "execution_count": 14,
   "id": "3063af67",
   "metadata": {
    "execution": {
     "iopub.execute_input": "2025-03-31T12:54:05.179132Z",
     "iopub.status.busy": "2025-03-31T12:54:05.178681Z",
     "iopub.status.idle": "2025-03-31T12:54:06.026307Z",
     "shell.execute_reply": "2025-03-31T12:54:06.025001Z"
    },
    "id": "W-3kR2F5kdMR",
    "papermill": {
     "duration": 0.866763,
     "end_time": "2025-03-31T12:54:06.029038",
     "exception": false,
     "start_time": "2025-03-31T12:54:05.162275",
     "status": "completed"
    },
    "tags": []
   },
   "outputs": [
    {
     "name": "stdout",
     "output_type": "stream",
     "text": [
      "From ancient grove to modern plate,\n",
      "A humble fruit, yet full of fate.\n",
      "In oils that gleam, and tapenade,\n",
      "A flavor rich, a vibrant shade.\n",
      "\n",
      "On pizzas tossed, in salads bright,\n",
      "A Mediterranean sun, a pure delight.\n",
      "A symbol peace, a taste so bold,\n",
      "The olive's story, yet to be told.\n",
      "\n"
     ]
    }
   ],
   "source": [
    "response = client.models.generate_content(\n",
    "    model='gemini-2.0-flash',\n",
    "    config=short_config,\n",
    "    contents='Write a short poem on the importance of olives in modern society.')\n",
    "\n",
    "print(response.text)"
   ]
  },
  {
   "cell_type": "markdown",
   "id": "8e1143ca",
   "metadata": {
    "id": "3ZhDSLB6lqqB",
    "papermill": {
     "duration": 0.011919,
     "end_time": "2025-03-31T12:54:06.053978",
     "exception": false,
     "start_time": "2025-03-31T12:54:06.042059",
     "status": "completed"
    },
    "tags": []
   },
   "source": [
    "Explore with your own prompts. Try a prompt with a restrictive output limit and then adjust the prompt to work within that limit."
   ]
  },
  {
   "cell_type": "markdown",
   "id": "be6e03fe",
   "metadata": {
    "id": "alx-WaAvir_9",
    "papermill": {
     "duration": 0.012077,
     "end_time": "2025-03-31T12:54:06.078176",
     "exception": false,
     "start_time": "2025-03-31T12:54:06.066099",
     "status": "completed"
    },
    "tags": []
   },
   "source": [
    "### Temperature\n",
    "\n",
    "Temperature controls the degree of randomness in token selection. Higher temperatures result in a higher number of candidate tokens from which the next output token is selected, and can produce more diverse results, while lower temperatures have the opposite effect, such that a temperature of 0 results in greedy decoding, selecting the most probable token at each step.\n",
    "\n",
    "Temperature doesn't provide any guarantees of randomness, but it can be used to \"nudge\" the output somewhat."
   ]
  },
  {
   "cell_type": "code",
   "execution_count": 15,
   "id": "ff93ee5d",
   "metadata": {
    "execution": {
     "iopub.execute_input": "2025-03-31T12:54:06.105545Z",
     "iopub.status.busy": "2025-03-31T12:54:06.105132Z",
     "iopub.status.idle": "2025-03-31T12:54:08.064516Z",
     "shell.execute_reply": "2025-03-31T12:54:08.063084Z"
    },
    "id": "SHraGMzqnZqt",
    "papermill": {
     "duration": 1.976297,
     "end_time": "2025-03-31T12:54:08.067061",
     "exception": false,
     "start_time": "2025-03-31T12:54:06.090764",
     "status": "completed"
    },
    "tags": []
   },
   "outputs": [
    {
     "name": "stdout",
     "output_type": "stream",
     "text": [
      "Orange\n",
      " -------------------------\n",
      "Turquoise\n",
      " -------------------------\n",
      "Azure.\n",
      " -------------------------\n",
      "Turquoise\n",
      " -------------------------\n",
      "Orange\n",
      " -------------------------\n"
     ]
    }
   ],
   "source": [
    "high_temp_config = types.GenerateContentConfig(temperature=2.0)\n",
    "\n",
    "\n",
    "for _ in range(5):\n",
    "  response = client.models.generate_content(\n",
    "      model='gemini-2.0-flash',\n",
    "      config=high_temp_config,\n",
    "      contents='Pick a random colour... (respond in a single word)')\n",
    "\n",
    "  if response.text:\n",
    "    print(response.text, '-' * 25)"
   ]
  },
  {
   "cell_type": "markdown",
   "id": "c58d147f",
   "metadata": {
    "id": "z3J4pCTuof7e",
    "papermill": {
     "duration": 0.012843,
     "end_time": "2025-03-31T12:54:08.093480",
     "exception": false,
     "start_time": "2025-03-31T12:54:08.080637",
     "status": "completed"
    },
    "tags": []
   },
   "source": [
    "Now try the same prompt with temperature set to zero. Note that the output is not completely deterministic, as other parameters affect token selection, but the results will tend to be more stable."
   ]
  },
  {
   "cell_type": "code",
   "execution_count": 16,
   "id": "ea40f0a9",
   "metadata": {
    "execution": {
     "iopub.execute_input": "2025-03-31T12:54:08.121673Z",
     "iopub.status.busy": "2025-03-31T12:54:08.121172Z",
     "iopub.status.idle": "2025-03-31T12:54:10.145146Z",
     "shell.execute_reply": "2025-03-31T12:54:10.142891Z"
    },
    "id": "clymkWv-PfUZ",
    "papermill": {
     "duration": 2.041876,
     "end_time": "2025-03-31T12:54:10.148451",
     "exception": false,
     "start_time": "2025-03-31T12:54:08.106575",
     "status": "completed"
    },
    "tags": []
   },
   "outputs": [
    {
     "name": "stdout",
     "output_type": "stream",
     "text": [
      "Azure\n",
      " -------------------------\n",
      "Azure\n",
      " -------------------------\n",
      "Azure\n",
      " -------------------------\n",
      "Azure\n",
      " -------------------------\n",
      "Azure\n",
      " -------------------------\n"
     ]
    }
   ],
   "source": [
    "low_temp_config = types.GenerateContentConfig(temperature=0.0)\n",
    "\n",
    "for _ in range(5):\n",
    "  response = client.models.generate_content(\n",
    "      model='gemini-2.0-flash',\n",
    "      config=low_temp_config,\n",
    "      contents='Pick a random colour... (respond in a single word)')\n",
    "\n",
    "  if response.text:\n",
    "    print(response.text, '-' * 25)"
   ]
  },
  {
   "cell_type": "markdown",
   "id": "1927093c",
   "metadata": {
    "id": "St5nt3vzitsZ",
    "papermill": {
     "duration": 0.014986,
     "end_time": "2025-03-31T12:54:10.183050",
     "exception": false,
     "start_time": "2025-03-31T12:54:10.168064",
     "status": "completed"
    },
    "tags": []
   },
   "source": [
    "### Top-P\n",
    "\n",
    "Like temperature, the top-P parameter is also used to control the diversity of the model's output.\n",
    "\n",
    "Top-P defines the probability threshold that, once cumulatively exceeded, tokens stop being selected as candidates. A top-P of 0 is typically equivalent to greedy decoding, and a top-P of 1 typically selects every token in the model's vocabulary.\n",
    "\n",
    "You may also see top-K referenced in LLM literature. Top-K is not configurable in the Gemini 2.0 series of models, but can be changed in older models. Top-K is a positive integer that defines the number of most probable tokens from which to select the output token. A top-K of 1 selects a single token, performing greedy decoding.\n",
    "\n",
    "\n",
    "Run this example a number of times, change the settings and observe the change in output."
   ]
  },
  {
   "cell_type": "code",
   "execution_count": 17,
   "id": "bd7b4c5d",
   "metadata": {
    "execution": {
     "iopub.execute_input": "2025-03-31T12:54:10.217012Z",
     "iopub.status.busy": "2025-03-31T12:54:10.216493Z",
     "iopub.status.idle": "2025-03-31T12:55:24.352637Z",
     "shell.execute_reply": "2025-03-31T12:55:24.350987Z"
    },
    "id": "lPlzpEavUV8F",
    "papermill": {
     "duration": 74.177874,
     "end_time": "2025-03-31T12:55:24.377811",
     "exception": false,
     "start_time": "2025-03-31T12:54:10.199937",
     "status": "completed"
    },
    "tags": []
   },
   "outputs": [
    {
     "name": "stdout",
     "output_type": "stream",
     "text": [
      "Clementine, a ginger tabby of discerning tastes and a penchant for afternoon naps in sunbeams, considered herself a creature of habit. Her life revolved around the predictable: breakfast at precisely 7:00 AM, a rigorous grooming session at 8:00 AM, and a strategic deployment of purrs to secure a prime napping spot on the sofa cushion at 1:00 PM. Adventure, in Clementine’s vocabulary, was a particularly enticing dust bunny discovered under the refrigerator.\n",
      "\n",
      "Then, the moving van arrived.\n",
      "\n",
      "Chaos erupted. Boxes piled high, humans yelled with unfamiliar urgency, and her favorite scratching post was unceremoniously wrestled from its corner. Clementine, horrified, sought refuge beneath the bed, her tail twitching with anxiety. When the bed was lifted, she knew she had to act. This new, disorienting reality required drastic measures.\n",
      "\n",
      "She bolted.\n",
      "\n",
      "Out the open front door she dashed, a blur of ginger fur escaping the pandemonium. The world exploded with new smells and sights. Instead of her familiar garden, she found herself on a bustling street, a symphony of rumbling engines and hurried footsteps. Fear pricked at her, but curiosity, a trait she usually suppressed, took hold.\n",
      "\n",
      "Her adventure began.\n",
      "\n",
      "First, she navigated a treacherous landscape of discarded hotdog wrappers and cigarette butts, her whiskers twitching with disdain. She encountered a fluffy white Persian who, with an air of haughty superiority, advised her to \"avoid the alley cats, darling. They're simply dreadful.\" Clementine, usually indifferent to social niceties, filed the information away.\n",
      "\n",
      "She followed her nose, drawn by an alluring scent of fish. It led her to a bustling market, a sensory overload of shouting vendors and overflowing baskets. Clementine, with practiced grace, weaved through the legs of shoppers, dodging stray carts and rogue tomatoes.\n",
      "\n",
      "Then, she saw it.\n",
      "\n",
      "A small, open window, leading into a fishmonger’s stall. The aroma was intoxicating. She leaped, landing silently on a stack of crates. Beneath her, a glistening mountain of salmon. Clementine, forgetting all about propriety, gorged herself.\n",
      "\n",
      "Sated and content, she curled up amongst the fish scales, intending a short nap. But the fishmonger, a burly man with a surprisingly kind face, noticed her. Instead of shooing her away, he offered her a small piece of salmon, carefully placed on a clean napkin.\n",
      "\n",
      "Clementine, overwhelmed by this unexpected kindness, nudged his hand with her head, a gesture usually reserved for her humans.\n",
      "\n",
      "The next few days were a blur of market adventures. Clementine became the unofficial mascot of the fish stall, charming customers with her elegant poses and unwavering gaze. The fishmonger, whose name was apparently Arthur, even started setting aside a special portion of salmon for her each day.\n",
      "\n",
      "But as the days turned into weeks, a gnawing feeling grew within her. She missed the sunbeams on the sofa cushion, the familiar scent of her humans, the satisfying scratch of her post. Her adventure had been thrilling, but a part of her yearned for the predictable comfort of her old life.\n",
      "\n",
      "One evening, as she perched on a crate, watching the market wind down, she saw them. Her humans. They were putting up posters, faces etched with worry. On each poster, a picture of a ginger tabby.\n",
      "\n",
      "Clementine, without hesitation, leaped down and ran towards them, meowing with all her might.\n",
      "\n",
      "The reunion was joyful, filled with hugs and tears (mostly hers). She was scooped up in loving arms and taken back to their new home, which, while unfamiliar, smelled faintly of her, her humans, and… surprisingly, fish.\n",
      "\n",
      "Clementine, curled up on a new (but perfectly acceptable) sofa cushion, realized that adventure was exciting, but home, with its predictable comforts and unwavering love, was the greatest adventure of all. And perhaps, just perhaps, she'd tell them all about Arthur the fishmonger tomorrow. After her nap, of course.\n",
      "\n"
     ]
    }
   ],
   "source": [
    "model_config = types.GenerateContentConfig(\n",
    "    # These are the default values for gemini-2.0-flash.\n",
    "    temperature=1.0,\n",
    "    top_p=0.95,\n",
    ")\n",
    "\n",
    "story_prompt = \"You are a creative writer. Write a short story about a cat who goes on an adventure.\"\n",
    "response = client.models.generate_content(\n",
    "    model='gemini-2.0-flash',\n",
    "    config=model_config,\n",
    "    contents=story_prompt)\n",
    "\n",
    "print(response.text)"
   ]
  },
  {
   "cell_type": "markdown",
   "id": "29162bff",
   "metadata": {
    "id": "rMrYs1koY6DX",
    "papermill": {
     "duration": 0.014194,
     "end_time": "2025-03-31T12:55:24.406271",
     "exception": false,
     "start_time": "2025-03-31T12:55:24.392077",
     "status": "completed"
    },
    "tags": []
   },
   "source": [
    "## Prompting\n",
    "\n",
    "This section contains some prompts from the chapter for you to try out directly in the API. Try changing the text here to see how each prompt performs with different instructions, more examples, or any other changes you can think of."
   ]
  },
  {
   "cell_type": "markdown",
   "id": "a53334e1",
   "metadata": {
    "id": "hhj_tQidZJP7",
    "papermill": {
     "duration": 0.01409,
     "end_time": "2025-03-31T12:55:24.434120",
     "exception": false,
     "start_time": "2025-03-31T12:55:24.420030",
     "status": "completed"
    },
    "tags": []
   },
   "source": [
    "### Zero-shot\n",
    "\n",
    "Zero-shot prompts are prompts that describe the request for the model directly.\n",
    "\n",
    "<table align=left>\n",
    "  <td>\n",
    "    <a target=\"_blank\" href=\"https://aistudio.google.com/prompts/1gzKKgDHwkAvexG5Up0LMtl1-6jKMKe4g\"><img src=\"https://ai.google.dev/site-assets/images/marketing/home/icon-ais.png\" style=\"height: 24px\" height=24/> Open in AI Studio</a>\n",
    "  </td>\n",
    "</table>"
   ]
  },
  {
   "cell_type": "code",
   "execution_count": 18,
   "id": "46fb32f4",
   "metadata": {
    "execution": {
     "iopub.execute_input": "2025-03-31T12:55:24.466640Z",
     "iopub.status.busy": "2025-03-31T12:55:24.466143Z",
     "iopub.status.idle": "2025-03-31T12:55:24.835989Z",
     "shell.execute_reply": "2025-03-31T12:55:24.834635Z"
    },
    "id": "1_t-cwnDZzbH",
    "papermill": {
     "duration": 0.390658,
     "end_time": "2025-03-31T12:55:24.838519",
     "exception": false,
     "start_time": "2025-03-31T12:55:24.447861",
     "status": "completed"
    },
    "tags": []
   },
   "outputs": [
    {
     "name": "stdout",
     "output_type": "stream",
     "text": [
      "POSITIVE\n",
      "\n"
     ]
    }
   ],
   "source": [
    "model_config = types.GenerateContentConfig(\n",
    "    temperature=0.1,\n",
    "    top_p=1,\n",
    "    max_output_tokens=5,\n",
    ")\n",
    "\n",
    "zero_shot_prompt = \"\"\"Classify movie reviews as POSITIVE, NEUTRAL or NEGATIVE.\n",
    "Review: \"Her\" is a disturbing study revealing the direction\n",
    "humanity is headed if AI is allowed to keep evolving,\n",
    "unchecked. I wish there were more movies like this masterpiece.\n",
    "Sentiment: \"\"\"\n",
    "\n",
    "response = client.models.generate_content(\n",
    "    model='gemini-2.0-flash',\n",
    "    config=model_config,\n",
    "    contents=zero_shot_prompt)\n",
    "\n",
    "print(response.text)"
   ]
  },
  {
   "cell_type": "markdown",
   "id": "09276205",
   "metadata": {
    "id": "3b5568bdeb11",
    "papermill": {
     "duration": 0.01321,
     "end_time": "2025-03-31T12:55:24.865803",
     "exception": false,
     "start_time": "2025-03-31T12:55:24.852593",
     "status": "completed"
    },
    "tags": []
   },
   "source": [
    "#### Enum mode\n",
    "\n",
    "The models are trained to generate text, and while the Gemini 2.0 models are great at following instructions, other models can sometimes produce more text than you may wish for. In the preceding example, the model will output the label, but sometimes it can include a preceding \"Sentiment\" label, and without an output token limit, it may also add explanatory text afterwards. See [this prompt in AI Studio](https://aistudio.google.com/prompts/1gzKKgDHwkAvexG5Up0LMtl1-6jKMKe4g) for an example.\n",
    "\n",
    "The Gemini API has an [Enum mode](https://github.com/google-gemini/cookbook/blob/main/quickstarts/Enum.ipynb) feature that allows you to constrain the output to a fixed set of values."
   ]
  },
  {
   "cell_type": "code",
   "execution_count": 19,
   "id": "454663b9",
   "metadata": {
    "execution": {
     "iopub.execute_input": "2025-03-31T12:55:24.895176Z",
     "iopub.status.busy": "2025-03-31T12:55:24.894190Z",
     "iopub.status.idle": "2025-03-31T12:55:25.307523Z",
     "shell.execute_reply": "2025-03-31T12:55:25.306178Z"
    },
    "id": "ad118a56c598",
    "papermill": {
     "duration": 0.430721,
     "end_time": "2025-03-31T12:55:25.309822",
     "exception": false,
     "start_time": "2025-03-31T12:55:24.879101",
     "status": "completed"
    },
    "tags": []
   },
   "outputs": [
    {
     "name": "stdout",
     "output_type": "stream",
     "text": [
      "positive\n"
     ]
    }
   ],
   "source": [
    "import enum\n",
    "\n",
    "class Sentiment(enum.Enum):\n",
    "    POSITIVE = \"positive\"\n",
    "    NEUTRAL = \"neutral\"\n",
    "    NEGATIVE = \"negative\"\n",
    "\n",
    "\n",
    "response = client.models.generate_content(\n",
    "    model='gemini-2.0-flash',\n",
    "    config=types.GenerateContentConfig(\n",
    "        response_mime_type=\"text/x.enum\",\n",
    "        response_schema=Sentiment\n",
    "    ),\n",
    "    contents=zero_shot_prompt)\n",
    "\n",
    "print(response.text)"
   ]
  },
  {
   "cell_type": "markdown",
   "id": "bab26c8d",
   "metadata": {
    "papermill": {
     "duration": 0.013996,
     "end_time": "2025-03-31T12:55:25.338188",
     "exception": false,
     "start_time": "2025-03-31T12:55:25.324192",
     "status": "completed"
    },
    "tags": []
   },
   "source": [
    "When using constrained output like an enum, the Python SDK will attempt to convert the model's text response into a Python object automatically. It's stored in the `response.parsed` field."
   ]
  },
  {
   "cell_type": "code",
   "execution_count": 20,
   "id": "6619ef19",
   "metadata": {
    "execution": {
     "iopub.execute_input": "2025-03-31T12:55:25.368308Z",
     "iopub.status.busy": "2025-03-31T12:55:25.367858Z",
     "iopub.status.idle": "2025-03-31T12:55:25.374654Z",
     "shell.execute_reply": "2025-03-31T12:55:25.373349Z"
    },
    "papermill": {
     "duration": 0.02667,
     "end_time": "2025-03-31T12:55:25.378413",
     "exception": false,
     "start_time": "2025-03-31T12:55:25.351743",
     "status": "completed"
    },
    "tags": []
   },
   "outputs": [
    {
     "name": "stdout",
     "output_type": "stream",
     "text": [
      "Sentiment.POSITIVE\n",
      "<enum 'Sentiment'>\n"
     ]
    }
   ],
   "source": [
    "enum_response = response.parsed\n",
    "print(enum_response)\n",
    "print(type(enum_response))"
   ]
  },
  {
   "cell_type": "markdown",
   "id": "00555c5c",
   "metadata": {
    "id": "0udiSwNbv45W",
    "papermill": {
     "duration": 0.013555,
     "end_time": "2025-03-31T12:55:25.405338",
     "exception": false,
     "start_time": "2025-03-31T12:55:25.391783",
     "status": "completed"
    },
    "tags": []
   },
   "source": [
    "### One-shot and few-shot\n",
    "\n",
    "Providing an example of the expected response is known as a \"one-shot\" prompt. When you provide multiple examples, it is a \"few-shot\" prompt.\n",
    "\n",
    "<table align=left>\n",
    "  <td>\n",
    "    <a target=\"_blank\" href=\"https://aistudio.google.com/prompts/1jjWkjUSoMXmLvMJ7IzADr_GxHPJVV2bg\"><img src=\"https://ai.google.dev/site-assets/images/marketing/home/icon-ais.png\" style=\"height: 24px\" height=24/> Open in AI Studio</a>\n",
    "  </td>\n",
    "</table>\n"
   ]
  },
  {
   "cell_type": "code",
   "execution_count": 21,
   "id": "43e3d5d7",
   "metadata": {
    "execution": {
     "iopub.execute_input": "2025-03-31T12:55:25.433833Z",
     "iopub.status.busy": "2025-03-31T12:55:25.433077Z",
     "iopub.status.idle": "2025-03-31T12:55:25.882573Z",
     "shell.execute_reply": "2025-03-31T12:55:25.881301Z"
    },
    "id": "hd4mVUukwOKZ",
    "papermill": {
     "duration": 0.466191,
     "end_time": "2025-03-31T12:55:25.884843",
     "exception": false,
     "start_time": "2025-03-31T12:55:25.418652",
     "status": "completed"
    },
    "tags": []
   },
   "outputs": [
    {
     "name": "stdout",
     "output_type": "stream",
     "text": [
      "```json\n",
      "{\n",
      "\"size\": \"large\",\n",
      "\"type\": \"normal\",\n",
      "\"ingredients\": [\"cheese\", \"pineapple\"]\n",
      "}\n",
      "```\n",
      "\n"
     ]
    }
   ],
   "source": [
    "few_shot_prompt = \"\"\"Parse a customer's pizza order into valid JSON:\n",
    "\n",
    "EXAMPLE:\n",
    "I want a small pizza with cheese, tomato sauce, and pepperoni.\n",
    "JSON Response:\n",
    "```\n",
    "{\n",
    "\"size\": \"small\",\n",
    "\"type\": \"normal\",\n",
    "\"ingredients\": [\"cheese\", \"tomato sauce\", \"pepperoni\"]\n",
    "}\n",
    "```\n",
    "\n",
    "EXAMPLE:\n",
    "Can I get a large pizza with tomato sauce, basil and mozzarella\n",
    "JSON Response:\n",
    "```\n",
    "{\n",
    "\"size\": \"large\",\n",
    "\"type\": \"normal\",\n",
    "\"ingredients\": [\"tomato sauce\", \"basil\", \"mozzarella\"]\n",
    "}\n",
    "```\n",
    "\n",
    "ORDER:\n",
    "\"\"\"\n",
    "\n",
    "customer_order = \"Give me a large with cheese & pineapple\"\n",
    "\n",
    "response = client.models.generate_content(\n",
    "    model='gemini-2.0-flash',\n",
    "    config=types.GenerateContentConfig(\n",
    "        temperature=0.1,\n",
    "        top_p=1,\n",
    "        max_output_tokens=250,\n",
    "    ),\n",
    "    contents=[few_shot_prompt, customer_order])\n",
    "\n",
    "print(response.text)"
   ]
  },
  {
   "cell_type": "markdown",
   "id": "289cb7af",
   "metadata": {
    "id": "021293096f08",
    "papermill": {
     "duration": 0.014066,
     "end_time": "2025-03-31T12:55:25.912603",
     "exception": false,
     "start_time": "2025-03-31T12:55:25.898537",
     "status": "completed"
    },
    "tags": []
   },
   "source": [
    "#### JSON mode\n",
    "\n",
    "To provide control over the schema, and to ensure that you only receive JSON (with no other text or markdown), you can use the Gemini API's [JSON mode](https://github.com/google-gemini/cookbook/blob/main/quickstarts/JSON_mode.ipynb). This forces the model to constrain decoding, such that token selection is guided by the supplied schema."
   ]
  },
  {
   "cell_type": "code",
   "execution_count": 22,
   "id": "edeebb19",
   "metadata": {
    "execution": {
     "iopub.execute_input": "2025-03-31T12:55:25.944059Z",
     "iopub.status.busy": "2025-03-31T12:55:25.943649Z",
     "iopub.status.idle": "2025-03-31T12:55:26.539480Z",
     "shell.execute_reply": "2025-03-31T12:55:26.538192Z"
    },
    "id": "50fbf0260912",
    "papermill": {
     "duration": 0.614064,
     "end_time": "2025-03-31T12:55:26.541692",
     "exception": false,
     "start_time": "2025-03-31T12:55:25.927628",
     "status": "completed"
    },
    "tags": []
   },
   "outputs": [
    {
     "name": "stdout",
     "output_type": "stream",
     "text": [
      "{\n",
      "  \"size\": \"large\",\n",
      "  \"ingredients\": [\"apple\", \"chocolate\"],\n",
      "  \"type\": \"dessert\"\n",
      "}\n"
     ]
    }
   ],
   "source": [
    "import typing_extensions as typing\n",
    "\n",
    "class PizzaOrder(typing.TypedDict):\n",
    "    size: str\n",
    "    ingredients: list[str]\n",
    "    type: str\n",
    "\n",
    "\n",
    "response = client.models.generate_content(\n",
    "    model='gemini-2.0-flash',\n",
    "    config=types.GenerateContentConfig(\n",
    "        temperature=0.1,\n",
    "        response_mime_type=\"application/json\",\n",
    "        response_schema=PizzaOrder,\n",
    "    ),\n",
    "    contents=\"Can I have a large dessert pizza with apple and chocolate\")\n",
    "\n",
    "print(response.text)"
   ]
  },
  {
   "cell_type": "markdown",
   "id": "d76a4957",
   "metadata": {
    "id": "4a93e338e57c",
    "papermill": {
     "duration": 0.013221,
     "end_time": "2025-03-31T12:55:26.568660",
     "exception": false,
     "start_time": "2025-03-31T12:55:26.555439",
     "status": "completed"
    },
    "tags": []
   },
   "source": [
    "### Chain of Thought (CoT)\n",
    "\n",
    "Direct prompting on LLMs can return answers quickly and (in terms of output token usage) efficiently, but they can be prone to hallucination. The answer may \"look\" correct (in terms of language and syntax) but is incorrect in terms of factuality and reasoning.\n",
    "\n",
    "Chain-of-Thought prompting is a technique where you instruct the model to output intermediate reasoning steps, and it typically gets better results, especially when combined with few-shot examples. It is worth noting that this technique doesn't completely eliminate hallucinations, and that it tends to cost more to run, due to the increased token count.\n",
    "\n",
    "Models like the Gemini family are trained to be \"chatty\" or \"thoughtful\" and will provide reasoning steps without prompting, so for this simple example you can ask the model to be more direct in the prompt to force a non-reasoning response. Try re-running this step if the model gets lucky and gets the answer correct on the first try."
   ]
  },
  {
   "cell_type": "code",
   "execution_count": 23,
   "id": "84d1ff0f",
   "metadata": {
    "execution": {
     "iopub.execute_input": "2025-03-31T12:55:26.598138Z",
     "iopub.status.busy": "2025-03-31T12:55:26.597074Z",
     "iopub.status.idle": "2025-03-31T12:55:26.909348Z",
     "shell.execute_reply": "2025-03-31T12:55:26.908064Z"
    },
    "id": "5715555db1c1",
    "papermill": {
     "duration": 0.329313,
     "end_time": "2025-03-31T12:55:26.911778",
     "exception": false,
     "start_time": "2025-03-31T12:55:26.582465",
     "status": "completed"
    },
    "tags": []
   },
   "outputs": [
    {
     "name": "stdout",
     "output_type": "stream",
     "text": [
      "52\n",
      "\n"
     ]
    }
   ],
   "source": [
    "prompt = \"\"\"When I was 4 years old, my partner was 3 times my age. Now, I\n",
    "am 20 years old. How old is my partner? Return the answer directly.\"\"\"\n",
    "\n",
    "response = client.models.generate_content(\n",
    "    model='gemini-2.0-flash',\n",
    "    contents=prompt)\n",
    "\n",
    "print(response.text)"
   ]
  },
  {
   "cell_type": "markdown",
   "id": "05645e1f",
   "metadata": {
    "id": "e12b19677bfd",
    "papermill": {
     "duration": 0.014789,
     "end_time": "2025-03-31T12:55:26.940827",
     "exception": false,
     "start_time": "2025-03-31T12:55:26.926038",
     "status": "completed"
    },
    "tags": []
   },
   "source": [
    "Now try the same approach, but indicate to the model that it should \"think step by step\"."
   ]
  },
  {
   "cell_type": "code",
   "execution_count": 24,
   "id": "d074f086",
   "metadata": {
    "execution": {
     "iopub.execute_input": "2025-03-31T12:55:26.972367Z",
     "iopub.status.busy": "2025-03-31T12:55:26.971927Z",
     "iopub.status.idle": "2025-03-31T12:55:27.888612Z",
     "shell.execute_reply": "2025-03-31T12:55:27.887398Z"
    },
    "id": "ffd7536a481f",
    "papermill": {
     "duration": 0.934697,
     "end_time": "2025-03-31T12:55:27.891136",
     "exception": false,
     "start_time": "2025-03-31T12:55:26.956439",
     "status": "completed"
    },
    "tags": []
   },
   "outputs": [
    {
     "data": {
      "text/markdown": [
       "Here's how to solve the problem step-by-step:\n",
       "\n",
       "1.  **Find the age difference:** When you were 4, your partner was 3 * 4 = 12 years old.\n",
       "\n",
       "2.  **Calculate the age difference:** The age difference between you and your partner is 12 - 4 = 8 years.\n",
       "\n",
       "3.  **Calculate partner's current age:** Since your partner is 8 years older than you, they are currently 20 + 8 = 28 years old.\n",
       "\n",
       "**Answer:** Your partner is now 28 years old.\n"
      ],
      "text/plain": [
       "<IPython.core.display.Markdown object>"
      ]
     },
     "execution_count": 24,
     "metadata": {},
     "output_type": "execute_result"
    }
   ],
   "source": [
    "prompt = \"\"\"When I was 4 years old, my partner was 3 times my age. Now,\n",
    "I am 20 years old. How old is my partner? Let's think step by step.\"\"\"\n",
    "\n",
    "response = client.models.generate_content(\n",
    "    model='gemini-2.0-flash',\n",
    "    contents=prompt)\n",
    "\n",
    "Markdown(response.text)"
   ]
  },
  {
   "cell_type": "markdown",
   "id": "e63f8489",
   "metadata": {
    "id": "oiLgBQJj0V53",
    "papermill": {
     "duration": 0.013825,
     "end_time": "2025-03-31T12:55:27.919444",
     "exception": false,
     "start_time": "2025-03-31T12:55:27.905619",
     "status": "completed"
    },
    "tags": []
   },
   "source": [
    "### ReAct: Reason and act\n",
    "\n",
    "In this example you will run a ReAct prompt directly in the Gemini API and perform the searching steps yourself. As this prompt follows a well-defined structure, there are frameworks available that wrap the prompt into easier-to-use APIs that make tool calls automatically, such as the LangChain example from the \"Prompting\" whitepaper.\n",
    "\n",
    "To try this out with the Wikipedia search engine, check out the [Searching Wikipedia with ReAct](https://github.com/google-gemini/cookbook/blob/main/examples/Search_Wikipedia_using_ReAct.ipynb) cookbook example.\n",
    "\n",
    "\n",
    "> Note: The prompt and in-context examples used here are from [https://github.com/ysymyth/ReAct](https://github.com/ysymyth/ReAct) which is published under an [MIT license](https://opensource.org/licenses/MIT), Copyright (c) 2023 Shunyu Yao.\n",
    "\n",
    "<table align=left>\n",
    "  <td>\n",
    "    <a target=\"_blank\" href=\"https://aistudio.google.com/prompts/18oo63Lwosd-bQ6Ay51uGogB3Wk3H8XMO\"><img src=\"https://ai.google.dev/site-assets/images/marketing/home/icon-ais.png\" style=\"height: 24px\" height=24/> Open in AI Studio</a>\n",
    "  </td>\n",
    "</table>\n"
   ]
  },
  {
   "cell_type": "code",
   "execution_count": 25,
   "id": "f3124cd4",
   "metadata": {
    "execution": {
     "iopub.execute_input": "2025-03-31T12:55:27.950348Z",
     "iopub.status.busy": "2025-03-31T12:55:27.949865Z",
     "iopub.status.idle": "2025-03-31T12:55:27.957097Z",
     "shell.execute_reply": "2025-03-31T12:55:27.955762Z"
    },
    "id": "cBgyNJ5z0VSs",
    "papermill": {
     "duration": 0.025943,
     "end_time": "2025-03-31T12:55:27.959409",
     "exception": false,
     "start_time": "2025-03-31T12:55:27.933466",
     "status": "completed"
    },
    "tags": []
   },
   "outputs": [],
   "source": [
    "model_instructions = \"\"\"\n",
    "Solve a question answering task with interleaving Thought, Action, Observation steps. Thought can reason about the current situation,\n",
    "Observation is understanding relevant information from an Action's output and Action can be one of three types:\n",
    " (1) <search>entity</search>, which searches the exact entity on Wikipedia and returns the first paragraph if it exists. If not, it\n",
    "     will return some similar entities to search and you can try to search the information from those topics.\n",
    " (2) <lookup>keyword</lookup>, which returns the next sentence containing keyword in the current context. This only does exact matches,\n",
    "     so keep your searches short.\n",
    " (3) <finish>answer</finish>, which returns the answer and finishes the task.\n",
    "\"\"\"\n",
    "\n",
    "example1 = \"\"\"Question\n",
    "Musician and satirist Allie Goertz wrote a song about the \"The Simpsons\" character Milhouse, who Matt Groening named after who?\n",
    "\n",
    "Thought 1\n",
    "The question simplifies to \"The Simpsons\" character Milhouse is named after who. I only need to search Milhouse and find who it is named after.\n",
    "\n",
    "Action 1\n",
    "<search>Milhouse</search>\n",
    "\n",
    "Observation 1\n",
    "Milhouse Mussolini Van Houten is a recurring character in the Fox animated television series The Simpsons voiced by Pamela Hayden and created by Matt Groening.\n",
    "\n",
    "Thought 2\n",
    "The paragraph does not tell who Milhouse is named after, maybe I can look up \"named after\".\n",
    "\n",
    "Action 2\n",
    "<lookup>named after</lookup>\n",
    "\n",
    "Observation 2\n",
    "Milhouse was named after U.S. president Richard Nixon, whose middle name was Milhous.\n",
    "\n",
    "Thought 3\n",
    "Milhouse was named after U.S. president Richard Nixon, so the answer is Richard Nixon.\n",
    "\n",
    "Action 3\n",
    "<finish>Richard Nixon</finish>\n",
    "\"\"\"\n",
    "\n",
    "example2 = \"\"\"Question\n",
    "What is the elevation range for the area that the eastern sector of the Colorado orogeny extends into?\n",
    "\n",
    "Thought 1\n",
    "I need to search Colorado orogeny, find the area that the eastern sector of the Colorado orogeny extends into, then find the elevation range of the area.\n",
    "\n",
    "Action 1\n",
    "<search>Colorado orogeny</search>\n",
    "\n",
    "Observation 1\n",
    "The Colorado orogeny was an episode of mountain building (an orogeny) in Colorado and surrounding areas.\n",
    "\n",
    "Thought 2\n",
    "It does not mention the eastern sector. So I need to look up eastern sector.\n",
    "\n",
    "Action 2\n",
    "<lookup>eastern sector</lookup>\n",
    "\n",
    "Observation 2\n",
    "The eastern sector extends into the High Plains and is called the Central Plains orogeny.\n",
    "\n",
    "Thought 3\n",
    "The eastern sector of Colorado orogeny extends into the High Plains. So I need to search High Plains and find its elevation range.\n",
    "\n",
    "Action 3\n",
    "<search>High Plains</search>\n",
    "\n",
    "Observation 3\n",
    "High Plains refers to one of two distinct land regions\n",
    "\n",
    "Thought 4\n",
    "I need to instead search High Plains (United States).\n",
    "\n",
    "Action 4\n",
    "<search>High Plains (United States)</search>\n",
    "\n",
    "Observation 4\n",
    "The High Plains are a subregion of the Great Plains. From east to west, the High Plains rise in elevation from around 1,800 to 7,000 ft (550 to 2,130m).\n",
    "\n",
    "Thought 5\n",
    "High Plains rise in elevation from around 1,800 to 7,000 ft, so the answer is 1,800 to 7,000 ft.\n",
    "\n",
    "Action 5\n",
    "<finish>1,800 to 7,000 ft</finish>\n",
    "\"\"\"\n",
    "\n",
    "# Come up with more examples yourself, or take a look through https://github.com/ysymyth/ReAct/"
   ]
  },
  {
   "cell_type": "markdown",
   "id": "b1be9836",
   "metadata": {
    "id": "C3wbfstjTgey",
    "papermill": {
     "duration": 0.013625,
     "end_time": "2025-03-31T12:55:27.987541",
     "exception": false,
     "start_time": "2025-03-31T12:55:27.973916",
     "status": "completed"
    },
    "tags": []
   },
   "source": [
    "To capture a single step at a time, while ignoring any hallucinated Observation steps, you will use `stop_sequences` to end the generation process. The steps are `Thought`, `Action`, `Observation`, in that order."
   ]
  },
  {
   "cell_type": "code",
   "execution_count": 26,
   "id": "a0884030",
   "metadata": {
    "execution": {
     "iopub.execute_input": "2025-03-31T12:55:28.018028Z",
     "iopub.status.busy": "2025-03-31T12:55:28.017588Z",
     "iopub.status.idle": "2025-03-31T12:55:28.549628Z",
     "shell.execute_reply": "2025-03-31T12:55:28.548347Z"
    },
    "id": "8mxrXRkRTdXm",
    "papermill": {
     "duration": 0.550754,
     "end_time": "2025-03-31T12:55:28.552456",
     "exception": false,
     "start_time": "2025-03-31T12:55:28.001702",
     "status": "completed"
    },
    "tags": []
   },
   "outputs": [
    {
     "name": "stdout",
     "output_type": "stream",
     "text": [
      "Thought 1\n",
      "I need to find the transformers NLP paper and then identify the authors, and then determine the youngest author among them.\n",
      "\n",
      "Action 1\n",
      "<search>transformers NLP paper</search>\n",
      "\n"
     ]
    }
   ],
   "source": [
    "question = \"\"\"Question\n",
    "Who was the youngest author listed on the transformers NLP paper?\n",
    "\"\"\"\n",
    "\n",
    "# You will perform the Action; so generate up to, but not including, the Observation.\n",
    "react_config = types.GenerateContentConfig(\n",
    "    stop_sequences=[\"\\nObservation\"],\n",
    "    system_instruction=model_instructions + example1 + example2,\n",
    ")\n",
    "\n",
    "# Create a chat that has the model instructions and examples pre-seeded.\n",
    "react_chat = client.chats.create(\n",
    "    model='gemini-2.0-flash',\n",
    "    config=react_config,\n",
    ")\n",
    "\n",
    "resp = react_chat.send_message(question)\n",
    "print(resp.text)"
   ]
  },
  {
   "cell_type": "markdown",
   "id": "54d6f92a",
   "metadata": {
    "id": "aW2PIdLbVv3l",
    "papermill": {
     "duration": 0.014118,
     "end_time": "2025-03-31T12:55:28.581578",
     "exception": false,
     "start_time": "2025-03-31T12:55:28.567460",
     "status": "completed"
    },
    "tags": []
   },
   "source": [
    "Now you can perform this research yourself and supply it back to the model."
   ]
  },
  {
   "cell_type": "code",
   "execution_count": 27,
   "id": "21ac9c04",
   "metadata": {
    "execution": {
     "iopub.execute_input": "2025-03-31T12:55:28.612288Z",
     "iopub.status.busy": "2025-03-31T12:55:28.611749Z",
     "iopub.status.idle": "2025-03-31T12:55:29.392322Z",
     "shell.execute_reply": "2025-03-31T12:55:29.390913Z"
    },
    "id": "mLMc0DZaV9g2",
    "papermill": {
     "duration": 0.799146,
     "end_time": "2025-03-31T12:55:29.394961",
     "exception": false,
     "start_time": "2025-03-31T12:55:28.595815",
     "status": "completed"
    },
    "tags": []
   },
   "outputs": [
    {
     "name": "stdout",
     "output_type": "stream",
     "text": [
      "Thought 2\n",
      "The authors of the paper are Ashish Vaswani, Noam Shazeer, Niki Parmar, Jakob Uszkoreit, Llion Jones, Aidan N. Gomez, Lukasz Kaiser, Illia Polosukhin. I need to find the youngest author of them. I will search the age of each author and compare them.\n",
      "\n",
      "Action 2\n",
      "<search>Ashish Vaswani age</search>\n",
      "\n"
     ]
    }
   ],
   "source": [
    "observation = \"\"\"Observation 1\n",
    "[1706.03762] Attention Is All You Need\n",
    "Ashish Vaswani, Noam Shazeer, Niki Parmar, Jakob Uszkoreit, Llion Jones, Aidan N. Gomez, Lukasz Kaiser, Illia Polosukhin\n",
    "We propose a new simple network architecture, the Transformer, based solely on attention mechanisms, dispensing with recurrence and convolutions entirely.\n",
    "\"\"\"\n",
    "resp = react_chat.send_message(observation)\n",
    "print(resp.text)"
   ]
  },
  {
   "cell_type": "markdown",
   "id": "3234b2a1",
   "metadata": {
    "id": "bo0tzf4nX6dA",
    "papermill": {
     "duration": 0.014998,
     "end_time": "2025-03-31T12:55:29.424735",
     "exception": false,
     "start_time": "2025-03-31T12:55:29.409737",
     "status": "completed"
    },
    "tags": []
   },
   "source": [
    "This process repeats until the `<finish>` action is reached. You can continue running this yourself if you like, or try the [Wikipedia example](https://github.com/google-gemini/cookbook/blob/main/examples/Search_Wikipedia_using_ReAct.ipynb) to see a fully automated ReAct system at work."
   ]
  },
  {
   "cell_type": "markdown",
   "id": "7a5fc801",
   "metadata": {
    "papermill": {
     "duration": 0.014278,
     "end_time": "2025-03-31T12:55:29.453966",
     "exception": false,
     "start_time": "2025-03-31T12:55:29.439688",
     "status": "completed"
    },
    "tags": []
   },
   "source": [
    "## Thinking mode\n",
    "\n",
    "The experiemental Gemini Flash 2.0 \"Thinking\" model has been trained to generate the \"thinking process\" the model goes through as part of its response. As a result, the Flash Thinking model is capable of stronger reasoning capabilities in its responses.\n",
    "\n",
    "Using a \"thinking mode\" model can provide you with high-quality responses without needing specialised prompting like the previous approaches. One reason this technique is effective is that you induce the model to generate relevant information (\"brainstorming\", or \"thoughts\") that is then used as part of the context in which the final response is generated.\n",
    "\n",
    "Note that when you use the API, you get the final response from the model, but the thoughts are not captured. To see the intermediate thoughts, try out [the thinking mode model in AI Studio](https://aistudio.google.com/prompts/new_chat?model=gemini-2.0-flash-thinking-exp-01-21).\n",
    "\n",
    "<table align=left>\n",
    "  <td>\n",
    "    <a target=\"_blank\" href=\"https://aistudio.google.com/prompts/1Z991SV7lZZZqioOiqIUPv9a9ix-ws4zk\"><img src=\"https://ai.google.dev/site-assets/images/marketing/home/icon-ais.png\" style=\"height: 24px\" height=24/> Open in AI Studio</a>\n",
    "  </td>\n",
    "</table>"
   ]
  },
  {
   "cell_type": "code",
   "execution_count": 28,
   "id": "05ec603f",
   "metadata": {
    "execution": {
     "iopub.execute_input": "2025-03-31T12:55:29.489169Z",
     "iopub.status.busy": "2025-03-31T12:55:29.488758Z",
     "iopub.status.idle": "2025-03-31T12:55:35.672154Z",
     "shell.execute_reply": "2025-03-31T12:55:35.670913Z"
    },
    "papermill": {
     "duration": 6.203291,
     "end_time": "2025-03-31T12:55:35.674607",
     "exception": false,
     "start_time": "2025-03-31T12:55:29.471316",
     "status": "completed"
    },
    "tags": []
   },
   "outputs": [
    {
     "data": {
      "text/markdown": [
       "The youngest author listed on the \"Attention is All You Need\" paper (which introduced the Transformer architecture and is considered *the* foundational Transformers NLP paper) is **Aidan N. Gomez**.\n",
       "\n",
       "Here's why:\n",
       "\n",
       "* **Affiliation at the time of publication:**  In the paper (published in 2017), Aidan N. Gomez was affiliated with the University of Toronto *and* Google Brain.  Being affiliated with a university, especially in conjunction with a research lab, often indicates a student or more junior researcher compared to those solely affiliated with Google Brain who are likely more established researchers.\n",
       "* **Career stage:**  Aidan N. Gomez was a PhD student at the University of Toronto at the time of the paper's publication.  The other authors were generally more senior researchers at Google Brain.\n",
       "\n",
       "While we don't have exact birthdates for all authors readily available, based on typical academic career paths and affiliations at the time of publication, **Aidan N. Gomez is highly likely to be the youngest author** on the \"Attention is All You Need\" paper."
      ],
      "text/plain": [
       "<IPython.core.display.Markdown object>"
      ]
     },
     "execution_count": 28,
     "metadata": {},
     "output_type": "execute_result"
    }
   ],
   "source": [
    "import io\n",
    "from IPython.display import Markdown, clear_output\n",
    "\n",
    "\n",
    "response = client.models.generate_content_stream(\n",
    "    model='gemini-2.0-flash-thinking-exp',\n",
    "    contents='Who was the youngest author listed on the transformers NLP paper?',\n",
    ")\n",
    "\n",
    "buf = io.StringIO()\n",
    "for chunk in response:\n",
    "    buf.write(chunk.text)\n",
    "    # Display the response as it is streamed\n",
    "    print(chunk.text, end='')\n",
    "\n",
    "# And then render the finished response as formatted markdown.\n",
    "clear_output()\n",
    "Markdown(buf.getvalue())"
   ]
  },
  {
   "cell_type": "markdown",
   "id": "8a61e26c",
   "metadata": {
    "id": "jPiZ_eIIaVPt",
    "papermill": {
     "duration": 0.014634,
     "end_time": "2025-03-31T12:55:35.704138",
     "exception": false,
     "start_time": "2025-03-31T12:55:35.689504",
     "status": "completed"
    },
    "tags": []
   },
   "source": [
    "## Code prompting"
   ]
  },
  {
   "cell_type": "markdown",
   "id": "313cba77",
   "metadata": {
    "id": "ZinKamwXeR6C",
    "papermill": {
     "duration": 0.014594,
     "end_time": "2025-03-31T12:55:35.733537",
     "exception": false,
     "start_time": "2025-03-31T12:55:35.718943",
     "status": "completed"
    },
    "tags": []
   },
   "source": [
    "### Generating code\n",
    "\n",
    "The Gemini family of models can be used to generate code, configuration and scripts. Generating code can be helpful when learning to code, learning a new language or for rapidly generating a first draft.\n",
    "\n",
    "It's important to be aware that since LLMs can make mistakes, and can repeat training data, it's essential to read and test your code first, and comply with any relevant licenses.\n",
    "\n",
    "<table align=left>\n",
    "  <td>\n",
    "    <a target=\"_blank\" href=\"https://aistudio.google.com/prompts/1YX71JGtzDjXQkgdes8bP6i3oH5lCRKxv\"><img src=\"https://ai.google.dev/site-assets/images/marketing/home/icon-ais.png\" style=\"height: 24px\" height=24/> Open in AI Studio</a>\n",
    "  </td>\n",
    "</table>"
   ]
  },
  {
   "cell_type": "code",
   "execution_count": 29,
   "id": "d4d85388",
   "metadata": {
    "execution": {
     "iopub.execute_input": "2025-03-31T12:55:35.768308Z",
     "iopub.status.busy": "2025-03-31T12:55:35.767173Z",
     "iopub.status.idle": "2025-03-31T12:55:36.219551Z",
     "shell.execute_reply": "2025-03-31T12:55:36.218330Z"
    },
    "id": "fOQP9pqmeUO1",
    "papermill": {
     "duration": 0.472026,
     "end_time": "2025-03-31T12:55:36.222160",
     "exception": false,
     "start_time": "2025-03-31T12:55:35.750134",
     "status": "completed"
    },
    "tags": []
   },
   "outputs": [
    {
     "data": {
      "text/markdown": [
       "```python\n",
       "def factorial(n):\n",
       "  if n == 0:\n",
       "    return 1\n",
       "  else:\n",
       "    return n * factorial(n-1)\n",
       "```\n"
      ],
      "text/plain": [
       "<IPython.core.display.Markdown object>"
      ]
     },
     "execution_count": 29,
     "metadata": {},
     "output_type": "execute_result"
    }
   ],
   "source": [
    "# The Gemini models love to talk, so it helps to specify they stick to the code if that\n",
    "# is all that you want.\n",
    "code_prompt = \"\"\"\n",
    "Write a Python function to calculate the factorial of a number. No explanation, provide only the code.\n",
    "\"\"\"\n",
    "\n",
    "response = client.models.generate_content(\n",
    "    model='gemini-2.0-flash',\n",
    "    config=types.GenerateContentConfig(\n",
    "        temperature=1,\n",
    "        top_p=1,\n",
    "        max_output_tokens=1024,\n",
    "    ),\n",
    "    contents=code_prompt)\n",
    "\n",
    "Markdown(response.text)"
   ]
  },
  {
   "cell_type": "markdown",
   "id": "9df196fb",
   "metadata": {
    "id": "wlBMWSFhgVRQ",
    "papermill": {
     "duration": 0.014055,
     "end_time": "2025-03-31T12:55:36.250596",
     "exception": false,
     "start_time": "2025-03-31T12:55:36.236541",
     "status": "completed"
    },
    "tags": []
   },
   "source": [
    "### Code execution\n",
    "\n",
    "The Gemini API can automatically run generated code too, and will return the output.\n",
    "\n",
    "<table align=left>\n",
    "  <td>\n",
    "    <a target=\"_blank\" href=\"https://aistudio.google.com/prompts/11veFr_VYEwBWcLkhNLr-maCG0G8sS_7Z\"><img src=\"https://ai.google.dev/site-assets/images/marketing/home/icon-ais.png\" style=\"height: 24px\" height=24/> Open in AI Studio</a>\n",
    "  </td>\n",
    "</table>"
   ]
  },
  {
   "cell_type": "code",
   "execution_count": 30,
   "id": "e314c403",
   "metadata": {
    "execution": {
     "iopub.execute_input": "2025-03-31T12:55:36.281094Z",
     "iopub.status.busy": "2025-03-31T12:55:36.280662Z",
     "iopub.status.idle": "2025-03-31T12:55:38.180893Z",
     "shell.execute_reply": "2025-03-31T12:55:38.179500Z"
    },
    "id": "jT3OfWYfhjRL",
    "papermill": {
     "duration": 1.918844,
     "end_time": "2025-03-31T12:55:38.183710",
     "exception": false,
     "start_time": "2025-03-31T12:55:36.264866",
     "status": "completed"
    },
    "tags": []
   },
   "outputs": [
    {
     "name": "stdout",
     "output_type": "stream",
     "text": [
      "{'text': \"Okay, I can do that. First, I'll generate the first 14 odd prime \"\n",
      "         'numbers. Remember that a prime number is a number greater than 1 '\n",
      "         'that has only two divisors: 1 and itself. Also, by \"odd prime '\n",
      "         'numbers,\" we exclude the only even prime number, which is 2. Then, I '\n",
      "         'will calculate the sum of these numbers.\\n'\n",
      "         '\\n'}\n",
      "-----\n",
      "{'executable_code': {'code': 'primes = []\\n'\n",
      "                             'number = 3\\n'\n",
      "                             'while len(primes) < 14:\\n'\n",
      "                             '    is_prime = True\\n'\n",
      "                             '    for i in range(2, int(number**0.5) + 1):\\n'\n",
      "                             '        if number % i == 0:\\n'\n",
      "                             '            is_prime = False\\n'\n",
      "                             '            break\\n'\n",
      "                             '    if is_prime:\\n'\n",
      "                             '        primes.append(number)\\n'\n",
      "                             '    number += 2\\n'\n",
      "                             '\\n'\n",
      "                             \"print(f'{primes=}')\\n\"\n",
      "                             '\\n'\n",
      "                             'import numpy as np\\n'\n",
      "                             'sum_of_primes = np.sum(primes)\\n'\n",
      "                             '\\n'\n",
      "                             \"print(f'{sum_of_primes=}')\\n\",\n",
      "                     'language': 'PYTHON'}}\n",
      "-----\n",
      "{'code_execution_result': {'outcome': 'OUTCOME_OK',\n",
      "                           'output': 'primes=[3, 5, 7, 11, 13, 17, 19, 23, 29, '\n",
      "                                     '31, 37, 41, 43, 47]\\n'\n",
      "                                     'sum_of_primes=np.int64(326)\\n'}}\n",
      "-----\n",
      "{'text': 'The first 14 odd prime numbers are 3, 5, 7, 11, 13, 17, 19, 23, 29, '\n",
      "         '31, 37, 41, 43, and 47. Their sum is 326.\\n'}\n",
      "-----\n"
     ]
    }
   ],
   "source": [
    "from pprint import pprint\n",
    "\n",
    "config = types.GenerateContentConfig(\n",
    "    tools=[types.Tool(code_execution=types.ToolCodeExecution())],\n",
    ")\n",
    "\n",
    "code_exec_prompt = \"\"\"\n",
    "Generate the first 14 odd prime numbers, then calculate their sum.\n",
    "\"\"\"\n",
    "\n",
    "response = client.models.generate_content(\n",
    "    model='gemini-2.0-flash',\n",
    "    config=config,\n",
    "    contents=code_exec_prompt)\n",
    "\n",
    "for part in response.candidates[0].content.parts:\n",
    "  pprint(part.to_json_dict())\n",
    "  print(\"-----\")"
   ]
  },
  {
   "cell_type": "markdown",
   "id": "b31c2263",
   "metadata": {
    "id": "ZspT1GSkjG6d",
    "papermill": {
     "duration": 0.014613,
     "end_time": "2025-03-31T12:55:38.213319",
     "exception": false,
     "start_time": "2025-03-31T12:55:38.198706",
     "status": "completed"
    },
    "tags": []
   },
   "source": [
    "This response contains multiple parts, including an opening and closing text part that represent regular responses, an `executable_code` part that represents generated code and a `code_execution_result` part that represents the results from running the generated code.\n",
    "\n",
    "You can explore them individually."
   ]
  },
  {
   "cell_type": "code",
   "execution_count": 31,
   "id": "151c47a5",
   "metadata": {
    "execution": {
     "iopub.execute_input": "2025-03-31T12:55:38.248022Z",
     "iopub.status.busy": "2025-03-31T12:55:38.247303Z",
     "iopub.status.idle": "2025-03-31T12:55:38.266062Z",
     "shell.execute_reply": "2025-03-31T12:55:38.264466Z"
    },
    "papermill": {
     "duration": 0.040596,
     "end_time": "2025-03-31T12:55:38.268975",
     "exception": false,
     "start_time": "2025-03-31T12:55:38.228379",
     "status": "completed"
    },
    "tags": []
   },
   "outputs": [
    {
     "data": {
      "text/markdown": [
       "Okay, I can do that. First, I'll generate the first 14 odd prime numbers. Remember that a prime number is a number greater than 1 that has only two divisors: 1 and itself. Also, by \"odd prime numbers,\" we exclude the only even prime number, which is 2. Then, I will calculate the sum of these numbers.\n",
       "\n"
      ],
      "text/plain": [
       "<IPython.core.display.Markdown object>"
      ]
     },
     "metadata": {},
     "output_type": "display_data"
    },
    {
     "data": {
      "text/markdown": [
       "```python\n",
       "primes = []\n",
       "number = 3\n",
       "while len(primes) < 14:\n",
       "    is_prime = True\n",
       "    for i in range(2, int(number**0.5) + 1):\n",
       "        if number % i == 0:\n",
       "            is_prime = False\n",
       "            break\n",
       "    if is_prime:\n",
       "        primes.append(number)\n",
       "    number += 2\n",
       "\n",
       "print(f'{primes=}')\n",
       "\n",
       "import numpy as np\n",
       "sum_of_primes = np.sum(primes)\n",
       "\n",
       "print(f'{sum_of_primes=}')\n",
       "\n",
       "```"
      ],
      "text/plain": [
       "<IPython.core.display.Markdown object>"
      ]
     },
     "metadata": {},
     "output_type": "display_data"
    },
    {
     "data": {
      "text/markdown": [
       "```\n",
       "primes=[3, 5, 7, 11, 13, 17, 19, 23, 29, 31, 37, 41, 43, 47]\n",
       "sum_of_primes=np.int64(326)\n",
       "\n",
       "```"
      ],
      "text/plain": [
       "<IPython.core.display.Markdown object>"
      ]
     },
     "metadata": {},
     "output_type": "display_data"
    },
    {
     "data": {
      "text/markdown": [
       "The first 14 odd prime numbers are 3, 5, 7, 11, 13, 17, 19, 23, 29, 31, 37, 41, 43, and 47. Their sum is 326.\n"
      ],
      "text/plain": [
       "<IPython.core.display.Markdown object>"
      ]
     },
     "metadata": {},
     "output_type": "display_data"
    }
   ],
   "source": [
    "for part in response.candidates[0].content.parts:\n",
    "    if part.text:\n",
    "        display(Markdown(part.text))\n",
    "    elif part.executable_code:\n",
    "        display(Markdown(f'```python\\n{part.executable_code.code}\\n```'))\n",
    "    elif part.code_execution_result:\n",
    "        if part.code_execution_result.outcome != 'OUTCOME_OK':\n",
    "            display(Markdown(f'## Status {part.code_execution_result.outcome}'))\n",
    "\n",
    "        display(Markdown(f'```\\n{part.code_execution_result.output}\\n```'))"
   ]
  },
  {
   "cell_type": "markdown",
   "id": "bf4b1a3d",
   "metadata": {
    "id": "1gUX8QzCj4d5",
    "papermill": {
     "duration": 0.015276,
     "end_time": "2025-03-31T12:55:38.300559",
     "exception": false,
     "start_time": "2025-03-31T12:55:38.285283",
     "status": "completed"
    },
    "tags": []
   },
   "source": [
    "### Explaining code\n",
    "\n",
    "The Gemini family of models can explain code to you too. In this example, you pass a [bash script](https://github.com/magicmonty/bash-git-prompt) and ask some questions.\n",
    "\n",
    "<table align=left>\n",
    "  <td>\n",
    "    <a target=\"_blank\" href=\"https://aistudio.google.com/prompts/1N7LGzWzCYieyOf_7bAG4plrmkpDNmUyb\"><img src=\"https://ai.google.dev/site-assets/images/marketing/home/icon-ais.png\" style=\"height: 24px\" height=24/> Open in AI Studio</a>\n",
    "  </td>\n",
    "</table>"
   ]
  },
  {
   "cell_type": "code",
   "execution_count": 32,
   "id": "b1c068ec",
   "metadata": {
    "execution": {
     "iopub.execute_input": "2025-03-31T12:55:38.335757Z",
     "iopub.status.busy": "2025-03-31T12:55:38.335266Z",
     "iopub.status.idle": "2025-03-31T12:55:40.558923Z",
     "shell.execute_reply": "2025-03-31T12:55:40.557480Z"
    },
    "id": "7_jPMMoxkIEb",
    "papermill": {
     "duration": 2.24548,
     "end_time": "2025-03-31T12:55:40.561660",
     "exception": false,
     "start_time": "2025-03-31T12:55:38.316180",
     "status": "completed"
    },
    "tags": []
   },
   "outputs": [
    {
     "data": {
      "text/markdown": [
       "This file is a **bash script designed to enhance your terminal prompt with information about the current Git repository**. It's commonly known as `bash-git-prompt` or `git-prompt.sh`.\n",
       "\n",
       "Here's a breakdown:\n",
       "\n",
       "*   **What it does:**  The script provides functions to customize your command prompt to display information about the current Git repository, such as the branch name, status of changes (staged, unstaged, untracked), ahead/behind tracking information, and more.  It also handles virtual environment integration (Python's `virtualenv`, `conda`, and Node.js' `NODE_VIRTUAL_ENV`).\n",
       "\n",
       "*   **Why use it?:**\n",
       "    *   **Improved Workflow:** Quickly see the status of your Git repository without needing to run `git status` every time.\n",
       "    *   **Contextual Awareness:**  Always know what branch you're on and whether you have pending changes.\n",
       "    *   **Customization:** Highly customizable, allowing you to tailor the prompt's appearance and the information it displays to fit your preferences. You can change colors, symbols, and what information is shown.\n",
       "    *   **Virtual Environment Awareness**: Shows you the currently activated virtual environment for Python and Node projects in your prompt.\n",
       "\n",
       "In essence, it's a utility that improves your Git workflow by providing at-a-glance information within your terminal prompt.\n"
      ],
      "text/plain": [
       "<IPython.core.display.Markdown object>"
      ]
     },
     "execution_count": 32,
     "metadata": {},
     "output_type": "execute_result"
    }
   ],
   "source": [
    "file_contents = !curl https://raw.githubusercontent.com/magicmonty/bash-git-prompt/refs/heads/master/gitprompt.sh\n",
    "\n",
    "explain_prompt = f\"\"\"\n",
    "Please explain what this file does at a very high level. What is it, and why would I use it?\n",
    "\n",
    "```\n",
    "{file_contents}\n",
    "```\n",
    "\"\"\"\n",
    "\n",
    "response = client.models.generate_content(\n",
    "    model='gemini-2.0-flash',\n",
    "    contents=explain_prompt)\n",
    "\n",
    "Markdown(response.text)"
   ]
  },
  {
   "cell_type": "markdown",
   "id": "9864bfa6",
   "metadata": {
    "id": "2a8266d97ce5",
    "papermill": {
     "duration": 0.01472,
     "end_time": "2025-03-31T12:55:40.591642",
     "exception": false,
     "start_time": "2025-03-31T12:55:40.576922",
     "status": "completed"
    },
    "tags": []
   },
   "source": [
    "## Learn more\n",
    "\n",
    "To learn more about prompting in depth:\n",
    "\n",
    "* Check out the whitepaper issued with today's content,\n",
    "* Try out the apps listed at the top of this notebook ([TextFX](https://textfx.withgoogle.com/), [SQL Talk](https://sql-talk-r5gdynozbq-uc.a.run.app/) and [NotebookLM](https://notebooklm.google/)),\n",
    "* Read the [Introduction to Prompting](https://ai.google.dev/gemini-api/docs/prompting-intro) from the Gemini API docs,\n",
    "* Explore the Gemini API's [prompt gallery](https://ai.google.dev/gemini-api/prompts) and try them out in AI Studio,\n",
    "* Check out the Gemini API cookbook for [inspirational examples](https://github.com/google-gemini/cookbook/blob/main/examples/) and [educational quickstarts](https://github.com/google-gemini/cookbook/blob/main/quickstarts/).\n",
    "\n",
    "Be sure to check out the codelabs on day 3 too, where you will explore some more advanced prompting with code execution.\n",
    "\n",
    "And please share anything exciting you have tried in the Discord!\n",
    "\n",
    "*- [Mark McD](https://linktr.ee/markmcd)*"
   ]
  }
 ],
 "metadata": {
  "colab": {
   "name": "day-1-prompting.ipynb",
   "toc_visible": true
  },
  "kaggle": {
   "accelerator": "none",
   "dataSources": [],
   "dockerImageVersionId": 30786,
   "isGpuEnabled": false,
   "isInternetEnabled": true,
   "language": "python",
   "sourceType": "notebook"
  },
  "kernelspec": {
   "display_name": "Python 3",
   "language": "python",
   "name": "python3"
  },
  "language_info": {
   "codemirror_mode": {
    "name": "ipython",
    "version": 3
   },
   "file_extension": ".py",
   "mimetype": "text/x-python",
   "name": "python",
   "nbconvert_exporter": "python",
   "pygments_lexer": "ipython3",
   "version": "3.10.14"
  },
  "papermill": {
   "default_parameters": {},
   "duration": 131.472412,
   "end_time": "2025-03-31T12:55:41.430655",
   "environment_variables": {},
   "exception": null,
   "input_path": "__notebook__.ipynb",
   "output_path": "__notebook__.ipynb",
   "parameters": {},
   "start_time": "2025-03-31T12:53:29.958243",
   "version": "2.6.0"
  }
 },
 "nbformat": 4,
 "nbformat_minor": 5
}
